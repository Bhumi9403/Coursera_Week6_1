{
 "cells": [
  {
   "cell_type": "markdown",
   "id": "1f8d2980",
   "metadata": {},
   "source": [
    "# Data Science Tools and Ecosystem"
   ]
  },
  {
   "cell_type": "markdown",
   "id": "2b891117",
   "metadata": {},
   "source": [
    "## In this notebook, Data Science Tools and Ecosystem are summarized."
   ]
  },
  {
   "cell_type": "markdown",
   "id": "b6236ea3",
   "metadata": {},
   "source": [
    "# Some of the popular languages that Data Scientists use are:\n",
    "1. Python\n",
    "2. R\n",
    "3. SQL\n",
    "4. Java\n",
    "5. Julia\n",
    "6. C/C++\n",
    "7. Scala"
   ]
  },
  {
   "cell_type": "markdown",
   "id": "8eeb0512",
   "metadata": {},
   "source": [
    "# Some of the commonly used libraries used by Data Scientists include:\n",
    "1. numpy\n",
    "2. Keras\n",
    "3. Pandas\n",
    "4. Scikit-Learn\n",
    "5. Matplotlib"
   ]
  },
  {
   "cell_type": "markdown",
   "id": "77560461",
   "metadata": {},
   "source": [
    "| Data Science Tools |\n",
    "|--------------------|\n",
    "| Apache Spark |\n",
    "| Jupyter Notebook |\n",
    "| Matlab |\n",
    "| Hadoop |\n",
    "| Weka |\n"
   ]
  },
  {
   "cell_type": "markdown",
   "id": "11518baa",
   "metadata": {},
   "source": [
    "### Below are a few examples of evaluating arithmetic expressions in Python\n",
    "$$f(x)=y^2$$\n",
    "$$y=m*x + c$$\n",
    "$$(a+b)^2=a^2+2*a*b+b^2$$"
   ]
  },
  {
   "cell_type": "code",
   "execution_count": 1,
   "id": "545ac7fe",
   "metadata": {},
   "outputs": [
    {
     "data": {
      "text/plain": [
       "17"
      ]
     },
     "execution_count": 1,
     "metadata": {},
     "output_type": "execute_result"
    }
   ],
   "source": [
    "# This a simple arithmetic expression to mutiply then add integers\n",
    "(3*4)+5"
   ]
  },
  {
   "cell_type": "code",
   "execution_count": 3,
   "id": "b5aba228",
   "metadata": {},
   "outputs": [
    {
     "name": "stdout",
     "output_type": "stream",
     "text": [
      "3.3333333333333335\n"
     ]
    }
   ],
   "source": [
    "\n",
    "time = 200\n",
    "hours = time / 60\n",
    "print(hours)"
   ]
  },
  {
   "attachments": {},
   "cell_type": "markdown",
   "id": "e1d607ce",
   "metadata": {},
   "source": [
    "# Objectives:\n",
    "### List popular languages for Data Science\n",
    "* Python\n",
    "* R\n",
    "* SQL\n",
    "* Java\n",
    "* C/C++\n",
    "* Julia\n",
    "* Scala\n",
    "### List some Python Libraries used for Data Science\n",
    "* Numpy\n",
    "* Pandas\n",
    "* Keras\n",
    "* Matplotlib\n",
    "* Pytorch\n",
    "### List some packages used in RStudio for Data Visualization\n",
    "* ggplot\n",
    "* plotly\n",
    "* lattice\n",
    "* leaflet\n",
    "* GGally\n",
    "### List tools used for Data Science\n",
    "* Jupyter Notebook\n",
    "* RStudio\n",
    "* Weks\n",
    "* Apache Spark"
   ]
  },
  {
   "cell_type": "markdown",
   "id": "09317980",
   "metadata": {},
   "source": [
    "## Author\n",
    "Bhumika Patil"
   ]
  },
  {
   "cell_type": "code",
   "execution_count": null,
   "id": "89c0d149",
   "metadata": {},
   "outputs": [],
   "source": []
  }
 ],
 "metadata": {
  "kernelspec": {
   "display_name": "Python 3 (ipykernel)",
   "language": "python",
   "name": "python3"
  },
  "language_info": {
   "codemirror_mode": {
    "name": "ipython",
    "version": 3
   },
   "file_extension": ".py",
   "mimetype": "text/x-python",
   "name": "python",
   "nbconvert_exporter": "python",
   "pygments_lexer": "ipython3",
   "version": "3.10.6"
  }
 },
 "nbformat": 4,
 "nbformat_minor": 5
}
